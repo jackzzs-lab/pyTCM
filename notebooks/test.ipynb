{
 "cells": [
  {
   "cell_type": "code",
   "execution_count": 1,
   "id": "a2e5fca4-b953-4399-9526-05f2da7d7aef",
   "metadata": {},
   "outputs": [],
   "source": [
    "%load_ext autoreload\n",
    "%autoreload 2\n",
    "from protactm.external import External, LazyExternal, ExternalPool, Module\n",
    "from concurrent.futures import as_completed\n",
    "\n",
    "import logging\n",
    "from rich.console import Console\n",
    "from rich.logging import RichHandler"
   ]
  },
  {
   "cell_type": "code",
   "execution_count": 2,
   "id": "8910daae",
   "metadata": {},
   "outputs": [],
   "source": [
    "logging.basicConfig(\n",
    "    level=logging.INFO,\n",
    "    format=\"%(message)s\",\n",
    "    datefmt=\"[%X]\",\n",
    "    handlers=[RichHandler(console=Console(stderr=True))]\n",
    ")"
   ]
  },
  {
   "cell_type": "code",
   "execution_count": 3,
   "id": "8bb00026-d391-4423-b192-f02d4c7ef408",
   "metadata": {},
   "outputs": [
    {
     "data": {
      "text/html": [
       "<pre style=\"white-space:pre;overflow-x:auto;line-height:normal;font-family:Menlo,'DejaVu Sans Mono',consolas,'Courier New',monospace\"><span style=\"color: #7fbfbf; text-decoration-color: #7fbfbf\">[14:02:05] </span><span style=\"color: #800000; text-decoration-color: #800000\">WARNING </span> Path of <span style=\"color: #008000; text-decoration-color: #008000\">\"schrodinger\"</span> is not found from either envvar or        <a href=\"file:///home/zhesheng/proj/protac-ternary-modelling/protactm/protactm/app.py\" target=\"_blank\"><span style=\"color: #7f7f7f; text-decoration-color: #7f7f7f\">app.py</span></a><span style=\"color: #7f7f7f; text-decoration-color: #7f7f7f\">:</span><a href=\"file:///home/zhesheng/proj/protac-ternary-modelling/protactm/protactm/app.py#59\" target=\"_blank\"><span style=\"color: #7f7f7f; text-decoration-color: #7f7f7f\">59</span></a>\n",
       "<span style=\"color: #7fbfbf; text-decoration-color: #7fbfbf\">           </span>         config.                                                         <span style=\"color: #7f7f7f; text-decoration-color: #7f7f7f\">         </span>\n",
       "</pre>\n"
      ],
      "text/plain": [
       "\u001b[2;36m[14:02:05]\u001b[0m\u001b[2;36m \u001b[0m\u001b[31mWARNING \u001b[0m Path of \u001b[32m\"schrodinger\"\u001b[0m is not found from either envvar or        \u001b]8;id=281360;file:///home/zhesheng/proj/protac-ternary-modelling/protactm/protactm/app.py\u001b\\\u001b[2mapp.py\u001b[0m\u001b]8;;\u001b\\\u001b[2m:\u001b[0m\u001b]8;id=554676;file:///home/zhesheng/proj/protac-ternary-modelling/protactm/protactm/app.py#59\u001b\\\u001b[2m59\u001b[0m\u001b]8;;\u001b\\\n",
       "\u001b[2;36m           \u001b[0m         config.                                                         \u001b[2m         \u001b[0m\n"
      ]
     },
     "metadata": {},
     "output_type": "display_data"
    }
   ],
   "source": [
    "module = Module()"
   ]
  },
  {
   "cell_type": "code",
   "execution_count": 4,
   "id": "8ecbfdcc",
   "metadata": {},
   "outputs": [
    {
     "data": {
      "text/plain": [
       "['',\n",
       " '----------------------------------- Modules ------------------------------------',\n",
       " '   R/4.1.2                      mgltools/1.5.7',\n",
       " '   alphafold/2.1.1              moe/2020.09',\n",
       " '   amber/20                     multiwfn/3.8_dev',\n",
       " '   amber/22              (D)    mysql/5.7.34',\n",
       " '   anaconda3/2021.05            namd/2.14-multicore-CUDA',\n",
       " '   autodock/gpu-1.5.2           openbabel/3.1.1',\n",
       " '   autodock/gpu-1.5.3    (D)    openeye/applications-2021.1.1',\n",
       " '   blender/3.0.0                openeye/applications-2021.2.0',\n",
       " '   ccdc/2021.2.0                openeye/applications-2022.1.1',\n",
       " '   ccdc/2022.1.0         (D)    openeye/toolkits-python3-2021.1.1',\n",
       " '   chemaxon/jchem-21.13         openeye/toolkits-python3-2021.2.0',\n",
       " '   chemaxon/jchem-21.17  (D)    openeye/toolkits-python3-2022.1.1 (D)',\n",
       " '   chimera/1.13.1               orca/5.0.2',\n",
       " '   chimera/1.15          (D)    orca/5.0.3                        (D)',\n",
       " '   corina/3.20                  plumed/2.7.2',\n",
       " '   corina/4.4.0          (D)    plumed/2.7.3                      (D)',\n",
       " '   cresset/flare-5.0.0          poseview/1.1.2',\n",
       " '   cresset/flare-6.0.0   (D)    pymol/2.5.1',\n",
       " '   crest/2.11.1                 pymol/2.5.2                       (D)',\n",
       " '   cuda/11.1                    rdkit/2021.09.2',\n",
       " '   cuda/11.2                    rdkit/2021.09.5                   (D)',\n",
       " '   cuda/11.4             (D)    rosetta/3.13',\n",
       " '   deepmd-kit/2.0.2             schrodinger/2021-1',\n",
       " '   dock/3.7.5                   schrodinger/2021-2',\n",
       " '   gaussian/g16                 schrodinger/2021-3',\n",
       " '   gcc/9.4.0                    schrodinger/2021-4',\n",
       " '   go/1.16.6                    schrodinger/2022-1',\n",
       " '   gromacs/2020.2-deepmd        schrodinger/2022-2                (D)',\n",
       " '   gromacs/2020.6        (D)    terachem/1.95',\n",
       " '   icm/3.9-2c                   vina/1.2.2',\n",
       " '   intel/2020                   vina/1.2.3                        (D)',\n",
       " '   jdk/11.0.14                  vmd/1.9.3',\n",
       " '   jdk/16.0.1            (D)    xtb/6.4.1',\n",
       " '   matlab/R2021a',\n",
       " '',\n",
       " '  Where:',\n",
       " '   D:  Default Module',\n",
       " '',\n",
       " 'Use \"module spider\" to find all possible modules and extensions.',\n",
       " 'Use \"module keyword key1 key2 ...\" to search for all possible modules matching',\n",
       " 'any of the \"keys\".',\n",
       " '',\n",
       " '']"
      ]
     },
     "execution_count": 4,
     "metadata": {},
     "output_type": "execute_result"
    }
   ],
   "source": [
    "module.shell('module avail', stderr='result').results()"
   ]
  },
  {
   "cell_type": "code",
   "execution_count": null,
   "id": "95248d8d",
   "metadata": {},
   "outputs": [],
   "source": []
  }
 ],
 "metadata": {
  "kernelspec": {
   "display_name": "Python 3.10.4 ('main')",
   "language": "python",
   "name": "python3"
  },
  "language_info": {
   "codemirror_mode": {
    "name": "ipython",
    "version": 3
   },
   "file_extension": ".py",
   "mimetype": "text/x-python",
   "name": "python",
   "nbconvert_exporter": "python",
   "pygments_lexer": "ipython3",
   "version": "3.10.8"
  },
  "vscode": {
   "interpreter": {
    "hash": "cf74e85260689b0dedf19f0ed7101a7f4db9ec25374acda5b12f3491869382ba"
   }
  }
 },
 "nbformat": 4,
 "nbformat_minor": 5
}
